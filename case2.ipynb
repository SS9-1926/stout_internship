{
 "cells": [
  {
   "cell_type": "code",
   "execution_count": 75,
   "id": "31113bc3",
   "metadata": {},
   "outputs": [],
   "source": [
    "import numpy as np\n",
    "import pandas as pd\n",
    "import altair as alt\n",
    "import matplotlib.pyplot as plt\n",
    "pd.set_option('display.max_columns',None) "
   ]
  },
  {
   "cell_type": "code",
   "execution_count": 4,
   "id": "61fe4544",
   "metadata": {
    "scrolled": true
   },
   "outputs": [
    {
     "data": {
      "text/html": [
       "<div>\n",
       "<style scoped>\n",
       "    .dataframe tbody tr th:only-of-type {\n",
       "        vertical-align: middle;\n",
       "    }\n",
       "\n",
       "    .dataframe tbody tr th {\n",
       "        vertical-align: top;\n",
       "    }\n",
       "\n",
       "    .dataframe thead th {\n",
       "        text-align: right;\n",
       "    }\n",
       "</style>\n",
       "<table border=\"1\" class=\"dataframe\">\n",
       "  <thead>\n",
       "    <tr style=\"text-align: right;\">\n",
       "      <th></th>\n",
       "      <th>Unnamed: 0</th>\n",
       "      <th>customer_email</th>\n",
       "      <th>net_revenue</th>\n",
       "      <th>year</th>\n",
       "    </tr>\n",
       "  </thead>\n",
       "  <tbody>\n",
       "    <tr>\n",
       "      <th>371749</th>\n",
       "      <td>371749</td>\n",
       "      <td>ejaikwfkyn@gmail.com</td>\n",
       "      <td>143.76</td>\n",
       "      <td>2016</td>\n",
       "    </tr>\n",
       "    <tr>\n",
       "      <th>485832</th>\n",
       "      <td>485832</td>\n",
       "      <td>qedzykfjdp@gmail.com</td>\n",
       "      <td>198.48</td>\n",
       "      <td>2017</td>\n",
       "    </tr>\n",
       "    <tr>\n",
       "      <th>220548</th>\n",
       "      <td>220548</td>\n",
       "      <td>ruszibjlna@gmail.com</td>\n",
       "      <td>49.85</td>\n",
       "      <td>2015</td>\n",
       "    </tr>\n",
       "    <tr>\n",
       "      <th>237182</th>\n",
       "      <td>237182</td>\n",
       "      <td>iglpfurygw@gmail.com</td>\n",
       "      <td>104.83</td>\n",
       "      <td>2016</td>\n",
       "    </tr>\n",
       "    <tr>\n",
       "      <th>626205</th>\n",
       "      <td>626205</td>\n",
       "      <td>tnuehutnny@gmail.com</td>\n",
       "      <td>85.43</td>\n",
       "      <td>2017</td>\n",
       "    </tr>\n",
       "  </tbody>\n",
       "</table>\n",
       "</div>"
      ],
      "text/plain": [
       "        Unnamed: 0         customer_email  net_revenue  year\n",
       "371749      371749   ejaikwfkyn@gmail.com       143.76  2016\n",
       "485832      485832   qedzykfjdp@gmail.com       198.48  2017\n",
       "220548      220548   ruszibjlna@gmail.com        49.85  2015\n",
       "237182      237182  iglpfurygw@gmail.com        104.83  2016\n",
       "626205      626205   tnuehutnny@gmail.com        85.43  2017"
      ]
     },
     "execution_count": 4,
     "metadata": {},
     "output_type": "execute_result"
    }
   ],
   "source": [
    "df = pd.read_csv('casestudy.csv')\n",
    "df.sample(5)"
   ]
  },
  {
   "cell_type": "code",
   "execution_count": 60,
   "id": "8f717533",
   "metadata": {},
   "outputs": [
    {
     "data": {
      "text/html": [
       "<div>\n",
       "<style scoped>\n",
       "    .dataframe tbody tr th:only-of-type {\n",
       "        vertical-align: middle;\n",
       "    }\n",
       "\n",
       "    .dataframe tbody tr th {\n",
       "        vertical-align: top;\n",
       "    }\n",
       "\n",
       "    .dataframe thead th {\n",
       "        text-align: right;\n",
       "    }\n",
       "</style>\n",
       "<table border=\"1\" class=\"dataframe\">\n",
       "  <thead>\n",
       "    <tr style=\"text-align: right;\">\n",
       "      <th></th>\n",
       "      <th>Unnamed: 0</th>\n",
       "      <th>net_revenue</th>\n",
       "      <th>year</th>\n",
       "    </tr>\n",
       "  </thead>\n",
       "  <tbody>\n",
       "    <tr>\n",
       "      <th>count</th>\n",
       "      <td>685927.000000</td>\n",
       "      <td>685927.000000</td>\n",
       "      <td>685927.000000</td>\n",
       "    </tr>\n",
       "    <tr>\n",
       "      <th>mean</th>\n",
       "      <td>342963.000000</td>\n",
       "      <td>125.647755</td>\n",
       "      <td>2016.027252</td>\n",
       "    </tr>\n",
       "    <tr>\n",
       "      <th>std</th>\n",
       "      <td>198010.213384</td>\n",
       "      <td>71.854528</td>\n",
       "      <td>0.837203</td>\n",
       "    </tr>\n",
       "    <tr>\n",
       "      <th>min</th>\n",
       "      <td>0.000000</td>\n",
       "      <td>1.000000</td>\n",
       "      <td>2015.000000</td>\n",
       "    </tr>\n",
       "    <tr>\n",
       "      <th>25%</th>\n",
       "      <td>171481.500000</td>\n",
       "      <td>63.510000</td>\n",
       "      <td>2015.000000</td>\n",
       "    </tr>\n",
       "    <tr>\n",
       "      <th>50%</th>\n",
       "      <td>342963.000000</td>\n",
       "      <td>125.730000</td>\n",
       "      <td>2016.000000</td>\n",
       "    </tr>\n",
       "    <tr>\n",
       "      <th>75%</th>\n",
       "      <td>514444.500000</td>\n",
       "      <td>187.820000</td>\n",
       "      <td>2017.000000</td>\n",
       "    </tr>\n",
       "    <tr>\n",
       "      <th>max</th>\n",
       "      <td>685926.000000</td>\n",
       "      <td>250.000000</td>\n",
       "      <td>2017.000000</td>\n",
       "    </tr>\n",
       "  </tbody>\n",
       "</table>\n",
       "</div>"
      ],
      "text/plain": [
       "          Unnamed: 0    net_revenue           year\n",
       "count  685927.000000  685927.000000  685927.000000\n",
       "mean   342963.000000     125.647755    2016.027252\n",
       "std    198010.213384      71.854528       0.837203\n",
       "min         0.000000       1.000000    2015.000000\n",
       "25%    171481.500000      63.510000    2015.000000\n",
       "50%    342963.000000     125.730000    2016.000000\n",
       "75%    514444.500000     187.820000    2017.000000\n",
       "max    685926.000000     250.000000    2017.000000"
      ]
     },
     "execution_count": 60,
     "metadata": {},
     "output_type": "execute_result"
    }
   ],
   "source": [
    "df.describe()"
   ]
  },
  {
   "cell_type": "markdown",
   "id": "d0a03aa4",
   "metadata": {},
   "source": [
    "We can see that, there are 685927 rows in the dataset which are distributed in year 2015, 2016 and 2017. In order to make the answer logically readable, they are not presented in the order the same as questions."
   ]
  },
  {
   "attachments": {},
   "cell_type": "markdown",
   "id": "72d1a291",
   "metadata": {},
   "source": [
    "## Total revenue"
   ]
  },
  {
   "cell_type": "code",
   "execution_count": 67,
   "id": "4d25a5c2",
   "metadata": {},
   "outputs": [
    {
     "data": {
      "text/html": [
       "<div>\n",
       "<style scoped>\n",
       "    .dataframe tbody tr th:only-of-type {\n",
       "        vertical-align: middle;\n",
       "    }\n",
       "\n",
       "    .dataframe tbody tr th {\n",
       "        vertical-align: top;\n",
       "    }\n",
       "\n",
       "    .dataframe thead th {\n",
       "        text-align: right;\n",
       "    }\n",
       "</style>\n",
       "<table border=\"1\" class=\"dataframe\">\n",
       "  <thead>\n",
       "    <tr style=\"text-align: right;\">\n",
       "      <th></th>\n",
       "      <th>total_revenue</th>\n",
       "    </tr>\n",
       "    <tr>\n",
       "      <th>year</th>\n",
       "      <th></th>\n",
       "    </tr>\n",
       "  </thead>\n",
       "  <tbody>\n",
       "    <tr>\n",
       "      <th>2015</th>\n",
       "      <td>29036749.19</td>\n",
       "    </tr>\n",
       "    <tr>\n",
       "      <th>2016</th>\n",
       "      <td>25730943.59</td>\n",
       "    </tr>\n",
       "    <tr>\n",
       "      <th>2017</th>\n",
       "      <td>31417495.03</td>\n",
       "    </tr>\n",
       "  </tbody>\n",
       "</table>\n",
       "</div>"
      ],
      "text/plain": [
       "      total_revenue\n",
       "year               \n",
       "2015    29036749.19\n",
       "2016    25730943.59\n",
       "2017    31417495.03"
      ]
     },
     "execution_count": 67,
     "metadata": {},
     "output_type": "execute_result"
    }
   ],
   "source": [
    "total_rev = df.groupby('year').sum().drop(['Unnamed: 0'], axis=1)\n",
    "total_rev.columns = ['total_revenue']\n",
    "total_rev"
   ]
  },
  {
   "attachments": {},
   "cell_type": "markdown",
   "id": "367fb366",
   "metadata": {},
   "source": [
    "## Total Customers Current Year"
   ]
  },
  {
   "cell_type": "code",
   "execution_count": 68,
   "id": "0d697017",
   "metadata": {},
   "outputs": [
    {
     "data": {
      "text/html": [
       "<div>\n",
       "<style scoped>\n",
       "    .dataframe tbody tr th:only-of-type {\n",
       "        vertical-align: middle;\n",
       "    }\n",
       "\n",
       "    .dataframe tbody tr th {\n",
       "        vertical-align: top;\n",
       "    }\n",
       "\n",
       "    .dataframe thead th {\n",
       "        text-align: right;\n",
       "    }\n",
       "</style>\n",
       "<table border=\"1\" class=\"dataframe\">\n",
       "  <thead>\n",
       "    <tr style=\"text-align: right;\">\n",
       "      <th></th>\n",
       "      <th>total_customers</th>\n",
       "    </tr>\n",
       "    <tr>\n",
       "      <th>year</th>\n",
       "      <th></th>\n",
       "    </tr>\n",
       "  </thead>\n",
       "  <tbody>\n",
       "    <tr>\n",
       "      <th>2015</th>\n",
       "      <td>231294</td>\n",
       "    </tr>\n",
       "    <tr>\n",
       "      <th>2016</th>\n",
       "      <td>204646</td>\n",
       "    </tr>\n",
       "    <tr>\n",
       "      <th>2017</th>\n",
       "      <td>249987</td>\n",
       "    </tr>\n",
       "  </tbody>\n",
       "</table>\n",
       "</div>"
      ],
      "text/plain": [
       "      total_customers\n",
       "year                 \n",
       "2015           231294\n",
       "2016           204646\n",
       "2017           249987"
      ]
     },
     "execution_count": 68,
     "metadata": {},
     "output_type": "execute_result"
    }
   ],
   "source": [
    "total_cus = df[['year', 'Unnamed: 0']].drop_duplicates(subset=['Unnamed: 0']).groupby('year').count()\n",
    "total_cus.columns = ['total_customers']\n",
    "total_cus"
   ]
  },
  {
   "cell_type": "code",
   "execution_count": 27,
   "id": "67b1dcd0",
   "metadata": {},
   "outputs": [],
   "source": [
    "# df[['year', 'Unnamed: 0']].groupby('year').count()\n",
    "# There are no duplicates"
   ]
  },
  {
   "cell_type": "markdown",
   "id": "e66ad737",
   "metadata": {},
   "source": [
    "## Total Customers Previous Year"
   ]
  },
  {
   "cell_type": "code",
   "execution_count": 69,
   "id": "d8af060c",
   "metadata": {},
   "outputs": [
    {
     "data": {
      "text/html": [
       "<div>\n",
       "<style scoped>\n",
       "    .dataframe tbody tr th:only-of-type {\n",
       "        vertical-align: middle;\n",
       "    }\n",
       "\n",
       "    .dataframe tbody tr th {\n",
       "        vertical-align: top;\n",
       "    }\n",
       "\n",
       "    .dataframe thead th {\n",
       "        text-align: right;\n",
       "    }\n",
       "</style>\n",
       "<table border=\"1\" class=\"dataframe\">\n",
       "  <thead>\n",
       "    <tr style=\"text-align: right;\">\n",
       "      <th></th>\n",
       "      <th>previous_customers</th>\n",
       "    </tr>\n",
       "    <tr>\n",
       "      <th>year</th>\n",
       "      <th></th>\n",
       "    </tr>\n",
       "  </thead>\n",
       "  <tbody>\n",
       "    <tr>\n",
       "      <th>2015</th>\n",
       "      <td>NaN</td>\n",
       "    </tr>\n",
       "    <tr>\n",
       "      <th>2016</th>\n",
       "      <td>231294.0</td>\n",
       "    </tr>\n",
       "    <tr>\n",
       "      <th>2017</th>\n",
       "      <td>204646.0</td>\n",
       "    </tr>\n",
       "  </tbody>\n",
       "</table>\n",
       "</div>"
      ],
      "text/plain": [
       "      previous_customers\n",
       "year                    \n",
       "2015                 NaN\n",
       "2016            231294.0\n",
       "2017            204646.0"
      ]
     },
     "execution_count": 69,
     "metadata": {},
     "output_type": "execute_result"
    }
   ],
   "source": [
    "pre_cus = df[['year', 'Unnamed: 0']].drop_duplicates(subset=['Unnamed: 0']).groupby('year').count().shift(1)\n",
    "pre_cus.columns = ['previous_customers']\n",
    "pre_cus"
   ]
  },
  {
   "cell_type": "markdown",
   "id": "14fd0dd5",
   "metadata": {},
   "source": [
    "## New Customers & Revenue\n",
    "Here, we define a new customer as a customer that not appears in the last year only."
   ]
  },
  {
   "cell_type": "code",
   "execution_count": 53,
   "id": "39cf0227",
   "metadata": {},
   "outputs": [
    {
     "data": {
      "text/html": [
       "<div>\n",
       "<style scoped>\n",
       "    .dataframe tbody tr th:only-of-type {\n",
       "        vertical-align: middle;\n",
       "    }\n",
       "\n",
       "    .dataframe tbody tr th {\n",
       "        vertical-align: top;\n",
       "    }\n",
       "\n",
       "    .dataframe thead th {\n",
       "        text-align: right;\n",
       "    }\n",
       "</style>\n",
       "<table border=\"1\" class=\"dataframe\">\n",
       "  <thead>\n",
       "    <tr style=\"text-align: right;\">\n",
       "      <th></th>\n",
       "      <th>new_customers</th>\n",
       "      <th>new_revenue</th>\n",
       "    </tr>\n",
       "    <tr>\n",
       "      <th>year</th>\n",
       "      <th></th>\n",
       "      <th></th>\n",
       "    </tr>\n",
       "  </thead>\n",
       "  <tbody>\n",
       "    <tr>\n",
       "      <th>2015</th>\n",
       "      <td>231294</td>\n",
       "      <td>29036749.19</td>\n",
       "    </tr>\n",
       "    <tr>\n",
       "      <th>2016</th>\n",
       "      <td>145062</td>\n",
       "      <td>18245491.01</td>\n",
       "    </tr>\n",
       "    <tr>\n",
       "      <th>2017</th>\n",
       "      <td>229028</td>\n",
       "      <td>28776235.04</td>\n",
       "    </tr>\n",
       "  </tbody>\n",
       "</table>\n",
       "</div>"
      ],
      "text/plain": [
       "     new_customers  new_revenue\n",
       "year                           \n",
       "2015        231294  29036749.19\n",
       "2016        145062  18245491.01\n",
       "2017        229028  28776235.04"
      ]
     },
     "execution_count": 53,
     "metadata": {},
     "output_type": "execute_result"
    }
   ],
   "source": [
    "new_cus = pd.DataFrame(data = None,columns = ['new_customers', 'new_revenue'])\n",
    "for i in df['year'].drop_duplicates():\n",
    "    if i == 2015:\n",
    "        new_num = len(df[df.year == i])\n",
    "        new_rev = df[df.year == 2015]['net_revenue'].sum()\n",
    "        new_cus.loc[i, 'new_customers'] = new_num\n",
    "        new_cus.loc[i, 'new_revenue'] = new_rev\n",
    "    else:\n",
    "        previous = df.loc[df.year == i-1]\n",
    "        current = df.loc[df.year == i]\n",
    "        new_num = len(current.loc[current.customer_email.isin(previous.customer_email) == False])\n",
    "        new_rev = current.loc[current.customer_email.isin(previous.customer_email) == False]['net_revenue'].sum()\n",
    "        new_cus.loc[i, 'new_customers'] = new_num\n",
    "        new_cus.loc[i, 'new_revenue'] = new_rev\n",
    "        \n",
    "new_cus.index.name='year'\n",
    "new_cus"
   ]
  },
  {
   "cell_type": "markdown",
   "id": "ecd82efa",
   "metadata": {},
   "source": [
    "## Lost Customers & Revenue Lost from Attrition\n",
    "Here, we define a lost customer as a customer that appears in the last year but not in this year."
   ]
  },
  {
   "cell_type": "code",
   "execution_count": 51,
   "id": "679e7765",
   "metadata": {},
   "outputs": [
    {
     "data": {
      "text/html": [
       "<div>\n",
       "<style scoped>\n",
       "    .dataframe tbody tr th:only-of-type {\n",
       "        vertical-align: middle;\n",
       "    }\n",
       "\n",
       "    .dataframe tbody tr th {\n",
       "        vertical-align: top;\n",
       "    }\n",
       "\n",
       "    .dataframe thead th {\n",
       "        text-align: right;\n",
       "    }\n",
       "</style>\n",
       "<table border=\"1\" class=\"dataframe\">\n",
       "  <thead>\n",
       "    <tr style=\"text-align: right;\">\n",
       "      <th></th>\n",
       "      <th>lost_customers</th>\n",
       "      <th>lost_revenue</th>\n",
       "    </tr>\n",
       "    <tr>\n",
       "      <th>year</th>\n",
       "      <th></th>\n",
       "      <th></th>\n",
       "    </tr>\n",
       "  </thead>\n",
       "  <tbody>\n",
       "    <tr>\n",
       "      <th>2015</th>\n",
       "      <td>None</td>\n",
       "      <td>None</td>\n",
       "    </tr>\n",
       "    <tr>\n",
       "      <th>2016</th>\n",
       "      <td>171710</td>\n",
       "      <td>21571632.07</td>\n",
       "    </tr>\n",
       "    <tr>\n",
       "      <th>2017</th>\n",
       "      <td>183687</td>\n",
       "      <td>23110294.94</td>\n",
       "    </tr>\n",
       "  </tbody>\n",
       "</table>\n",
       "</div>"
      ],
      "text/plain": [
       "     lost_customers lost_revenue\n",
       "year                            \n",
       "2015           None         None\n",
       "2016         171710  21571632.07\n",
       "2017         183687  23110294.94"
      ]
     },
     "execution_count": 51,
     "metadata": {},
     "output_type": "execute_result"
    }
   ],
   "source": [
    "lost_cus = pd.DataFrame(data = None,columns = ['lost_customers', 'lost_revenue'])\n",
    "for i in df['year'].drop_duplicates():\n",
    "    if i == 2015:\n",
    "        lost_cus.loc[i, 'lost_customers'] = None\n",
    "        lost_cus.loc[i, 'lost_revenue'] = None\n",
    "    else:\n",
    "        previous = df.loc[df.year == i-1]\n",
    "        current = df.loc[df.year == i]\n",
    "        lost_num = len(previous.loc[previous.customer_email.isin(current.customer_email) == False])\n",
    "        lost_rev = previous.loc[previous.customer_email.isin(current.customer_email) == False]['net_revenue'].sum()\n",
    "        lost_cus.loc[i, 'lost_customers'] = lost_num\n",
    "        lost_cus.loc[i, 'lost_revenue'] = lost_rev\n",
    "        \n",
    "lost_cus.index.name = 'year'\n",
    "lost_cus"
   ]
  },
  {
   "cell_type": "markdown",
   "id": "9c41bec5",
   "metadata": {},
   "source": [
    "## Existing Customer Revenue & Growth\n",
    "Here, we define an existing customer as a customer that appears both in the last year and in this year."
   ]
  },
  {
   "cell_type": "code",
   "execution_count": 117,
   "id": "72c7e07c",
   "metadata": {},
   "outputs": [
    {
     "data": {
      "text/html": [
       "<div>\n",
       "<style scoped>\n",
       "    .dataframe tbody tr th:only-of-type {\n",
       "        vertical-align: middle;\n",
       "    }\n",
       "\n",
       "    .dataframe tbody tr th {\n",
       "        vertical-align: top;\n",
       "    }\n",
       "\n",
       "    .dataframe thead th {\n",
       "        text-align: right;\n",
       "    }\n",
       "</style>\n",
       "<table border=\"1\" class=\"dataframe\">\n",
       "  <thead>\n",
       "    <tr style=\"text-align: right;\">\n",
       "      <th></th>\n",
       "      <th>existing_customers</th>\n",
       "      <th>existing_revenue</th>\n",
       "      <th>prior_revenue</th>\n",
       "      <th>growth</th>\n",
       "    </tr>\n",
       "    <tr>\n",
       "      <th>year</th>\n",
       "      <th></th>\n",
       "      <th></th>\n",
       "      <th></th>\n",
       "      <th></th>\n",
       "    </tr>\n",
       "  </thead>\n",
       "  <tbody>\n",
       "    <tr>\n",
       "      <th>2015</th>\n",
       "      <td>0</td>\n",
       "      <td>0</td>\n",
       "      <td>0</td>\n",
       "      <td>0</td>\n",
       "    </tr>\n",
       "    <tr>\n",
       "      <th>2016</th>\n",
       "      <td>59584</td>\n",
       "      <td>7485452.58</td>\n",
       "      <td>7465117.12</td>\n",
       "      <td>20335.46</td>\n",
       "    </tr>\n",
       "    <tr>\n",
       "      <th>2017</th>\n",
       "      <td>20959</td>\n",
       "      <td>2641259.99</td>\n",
       "      <td>2620648.65</td>\n",
       "      <td>20611.34</td>\n",
       "    </tr>\n",
       "  </tbody>\n",
       "</table>\n",
       "</div>"
      ],
      "text/plain": [
       "     existing_customers existing_revenue prior_revenue    growth\n",
       "year                                                            \n",
       "2015                  0                0             0         0\n",
       "2016              59584       7485452.58    7465117.12  20335.46\n",
       "2017              20959       2641259.99    2620648.65  20611.34"
      ]
     },
     "execution_count": 117,
     "metadata": {},
     "output_type": "execute_result"
    }
   ],
   "source": [
    "exi_cus = pd.DataFrame(data = None,columns = ['existing_customers', 'existing_revenue', 'prior_revenue', 'growth'])\n",
    "for i in df['year'].drop_duplicates():\n",
    "    if i == 2015:\n",
    "        exi_num = len(df[df.year == i])\n",
    "        exi_rev = df[df.year == 2015]['net_revenue'].sum()\n",
    "        exi_cus.loc[i, 'existing_customers'] = 0\n",
    "        exi_cus.loc[i, 'existing_revenue'] = 0\n",
    "        exi_cus.loc[i, 'prior_revenue'] = 0\n",
    "        exi_cus.loc[i, 'growth'] = 0\n",
    "    else:\n",
    "        previous = df.loc[df.year == i-1]\n",
    "        current = df.loc[df.year == i]\n",
    "        exi_cur = current.loc[current.customer_email.isin(previous.customer_email) == True]\n",
    "        exi_pri = previous.loc[previous.customer_email.isin(current.customer_email) == True]\n",
    "        exi_num = len(exi_cur)\n",
    "        exi_rev = exi_cur['net_revenue'].sum()\n",
    "        pri_rev = exi_pri['net_revenue'].sum()\n",
    "        exi_cus.loc[i, 'existing_customers'] = exi_num\n",
    "        exi_cus.loc[i, 'existing_revenue'] = exi_rev\n",
    "        exi_cus.loc[i, 'prior_revenue'] = pri_rev\n",
    "        exi_cus.loc[i, 'growth'] = exi_rev - pri_rev\n",
    "        \n",
    "exi_cus.index.name='year'\n",
    "exi_cus"
   ]
  },
  {
   "cell_type": "markdown",
   "id": "b0b7be60",
   "metadata": {},
   "source": [
    "Now we join up all results into one data frame."
   ]
  },
  {
   "cell_type": "code",
   "execution_count": 118,
   "id": "11c73d74",
   "metadata": {},
   "outputs": [
    {
     "data": {
      "text/html": [
       "<div>\n",
       "<style scoped>\n",
       "    .dataframe tbody tr th:only-of-type {\n",
       "        vertical-align: middle;\n",
       "    }\n",
       "\n",
       "    .dataframe tbody tr th {\n",
       "        vertical-align: top;\n",
       "    }\n",
       "\n",
       "    .dataframe thead th {\n",
       "        text-align: right;\n",
       "    }\n",
       "</style>\n",
       "<table border=\"1\" class=\"dataframe\">\n",
       "  <thead>\n",
       "    <tr style=\"text-align: right;\">\n",
       "      <th></th>\n",
       "      <th>total_revenue</th>\n",
       "      <th>total_customers</th>\n",
       "      <th>previous_customers</th>\n",
       "      <th>new_customers</th>\n",
       "      <th>new_revenue</th>\n",
       "      <th>lost_customers</th>\n",
       "      <th>lost_revenue</th>\n",
       "      <th>existing_customers</th>\n",
       "      <th>existing_revenue</th>\n",
       "      <th>prior_revenue</th>\n",
       "      <th>growth</th>\n",
       "    </tr>\n",
       "    <tr>\n",
       "      <th>year</th>\n",
       "      <th></th>\n",
       "      <th></th>\n",
       "      <th></th>\n",
       "      <th></th>\n",
       "      <th></th>\n",
       "      <th></th>\n",
       "      <th></th>\n",
       "      <th></th>\n",
       "      <th></th>\n",
       "      <th></th>\n",
       "      <th></th>\n",
       "    </tr>\n",
       "  </thead>\n",
       "  <tbody>\n",
       "    <tr>\n",
       "      <th>2015</th>\n",
       "      <td>29036749.19</td>\n",
       "      <td>231294</td>\n",
       "      <td>NaN</td>\n",
       "      <td>231294</td>\n",
       "      <td>29036749.19</td>\n",
       "      <td>None</td>\n",
       "      <td>None</td>\n",
       "      <td>0</td>\n",
       "      <td>0</td>\n",
       "      <td>0</td>\n",
       "      <td>0</td>\n",
       "    </tr>\n",
       "    <tr>\n",
       "      <th>2016</th>\n",
       "      <td>25730943.59</td>\n",
       "      <td>204646</td>\n",
       "      <td>231294.0</td>\n",
       "      <td>145062</td>\n",
       "      <td>18245491.01</td>\n",
       "      <td>171710</td>\n",
       "      <td>21571632.07</td>\n",
       "      <td>59584</td>\n",
       "      <td>7485452.58</td>\n",
       "      <td>7465117.12</td>\n",
       "      <td>20335.46</td>\n",
       "    </tr>\n",
       "    <tr>\n",
       "      <th>2017</th>\n",
       "      <td>31417495.03</td>\n",
       "      <td>249987</td>\n",
       "      <td>204646.0</td>\n",
       "      <td>229028</td>\n",
       "      <td>28776235.04</td>\n",
       "      <td>183687</td>\n",
       "      <td>23110294.94</td>\n",
       "      <td>20959</td>\n",
       "      <td>2641259.99</td>\n",
       "      <td>2620648.65</td>\n",
       "      <td>20611.34</td>\n",
       "    </tr>\n",
       "  </tbody>\n",
       "</table>\n",
       "</div>"
      ],
      "text/plain": [
       "      total_revenue  total_customers  previous_customers new_customers  \\\n",
       "year                                                                     \n",
       "2015    29036749.19           231294                 NaN        231294   \n",
       "2016    25730943.59           204646            231294.0        145062   \n",
       "2017    31417495.03           249987            204646.0        229028   \n",
       "\n",
       "      new_revenue lost_customers lost_revenue existing_customers  \\\n",
       "year                                                               \n",
       "2015  29036749.19           None         None                  0   \n",
       "2016  18245491.01         171710  21571632.07              59584   \n",
       "2017  28776235.04         183687  23110294.94              20959   \n",
       "\n",
       "     existing_revenue prior_revenue    growth  \n",
       "year                                           \n",
       "2015                0             0         0  \n",
       "2016       7485452.58    7465117.12  20335.46  \n",
       "2017       2641259.99    2620648.65  20611.34  "
      ]
     },
     "execution_count": 118,
     "metadata": {},
     "output_type": "execute_result"
    }
   ],
   "source": [
    "res = pd.concat([total_rev, total_cus, pre_cus, new_cus, lost_cus, exi_cus], axis = 1)\n",
    "res"
   ]
  },
  {
   "cell_type": "code",
   "execution_count": 119,
   "id": "b4d6b0fe",
   "metadata": {},
   "outputs": [
    {
     "data": {
      "text/plain": [
       "<matplotlib.legend.Legend at 0x7fd8d2ecda90>"
      ]
     },
     "execution_count": 119,
     "metadata": {},
     "output_type": "execute_result"
    },
    {
     "data": {
      "text/plain": [
       "<Figure size 432x288 with 0 Axes>"
      ]
     },
     "metadata": {},
     "output_type": "display_data"
    },
    {
     "data": {
      "image/png": "[encoded data removed]",
      "text/plain": [
       "<Figure size 432x288 with 1 Axes>"
      ]
     },
     "metadata": {
      "needs_background": "light"
     },
     "output_type": "display_data"
    }
   ],
   "source": [
    "fig=plt.figure('Revenue')\n",
    "labels = ['2015', '2016', '2017']\n",
    "width=1\n",
    "fig, ax1=plt.subplots()\n",
    "ax1.bar(labels, res.new_revenue, width, color='red', edgecolor='white', label='new')\n",
    "ax1.bar(labels, res.existing_revenue, width, bottom=res.new_revenue, color='blue', edgecolor='white', label='existing')\n",
    "plt.title('Revenue in each year')\n",
    "plt.xlabel('year')\n",
    "plt.ylabel('revenue')\n",
    "plt.legend(loc='upper right', bbox_to_anchor=(1.3, 1))\n",
    "# plt.show()"
   ]
  },
  {
   "cell_type": "markdown",
   "id": "a0c73000",
   "metadata": {},
   "source": [
    "From the plot, we can see that total revenue in 2017 is the highest and that in 2016 is the lowest. Most of the revenue comes from new customers."
   ]
  },
  {
   "cell_type": "code",
   "execution_count": 135,
   "id": "cdb481fc",
   "metadata": {},
   "outputs": [
    {
     "data": {
      "text/plain": [
       "<matplotlib.legend.Legend at 0x7fd879988d60>"
      ]
     },
     "execution_count": 135,
     "metadata": {},
     "output_type": "execute_result"
    },
    {
     "data": {
      "text/plain": [
       "<Figure size 432x288 with 0 Axes>"
      ]
     },
     "metadata": {},
     "output_type": "display_data"
    },
    {
     "data": {
      "image/png": "[encoded data removed]",
      "text/plain": [
       "<Figure size 432x288 with 1 Axes>"
      ]
     },
     "metadata": {
      "needs_background": "light"
     },
     "output_type": "display_data"
    }
   ],
   "source": [
    "fig=plt.figure('Revenue')\n",
    "labels = ['2015', '2016', '2017']\n",
    "fig, ax1=plt.subplots()\n",
    "ax1.plot(labels, res.total_revenue/res.total_customers, marker='o', label='total')\n",
    "ax1.plot(labels, res.new_revenue/res.new_customers, marker='o', label='new')\n",
    "ax1.plot(labels, res.lost_revenue/res.lost_customers, marker='o', label='lost')\n",
    "plt.title('Average revenue')\n",
    "plt.ylim((125, 126))\n",
    "plt.xlabel('year')\n",
    "plt.ylabel('revenue')\n",
    "plt.legend(loc='upper right', bbox_to_anchor=(1.3, 1))\n",
    "# plt.show()"
   ]
  },
  {
   "cell_type": "markdown",
   "id": "0fc3a5b5",
   "metadata": {},
   "source": [
    "We can see that the average revenue remains stable regardless of year and customer type."
   ]
  },
  {
   "cell_type": "code",
   "execution_count": null,
   "id": "3228134b",
   "metadata": {},
   "outputs": [],
   "source": []
  }
 ],
 "metadata": {
  "kernelspec": {
   "display_name": "Python 3 (ipykernel)",
   "language": "python",
   "name": "python3"
  },
  "language_info": {
   "codemirror_mode": {
    "name": "ipython",
    "version": 3
   },
   "file_extension": ".py",
   "mimetype": "text/x-python",
   "name": "python",
   "nbconvert_exporter": "python",
   "pygments_lexer": "ipython3",
   "version": "3.9.7"
  }
 },
 "nbformat": 4,
 "nbformat_minor": 5
}
